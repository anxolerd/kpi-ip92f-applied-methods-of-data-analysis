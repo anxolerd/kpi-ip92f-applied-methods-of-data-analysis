{
 "cells": [
  {
   "cell_type": "markdown",
   "metadata": {},
   "source": [
    "# Лабораторна робота №4"
   ]
  },
  {
   "cell_type": "markdown",
   "metadata": {},
   "source": [
    "## Тематичне дослідження - сприятливі слова з відгуків про ресторани"
   ]
  },
  {
   "cell_type": "code",
   "execution_count": 1,
   "metadata": {},
   "outputs": [],
   "source": [
    "# import the required libraries here\n",
    "import pandas as pd"
   ]
  },
  {
   "cell_type": "markdown",
   "metadata": {},
   "source": [
    "## Найпопулярніша категорія ресторанів\n",
    "Сподіваємось, ви подивилися словник даних [тут] (https://www.yelp.com/dataset/documentation/main)\n",
    "і дійшли висновку, що файл business.json найбільше підходить для отримання відповіді на питання про те, що є найпопулярнішою категорією. Ми завантажуємо дані з файлу. Якщо файл даних знаходиться у папці JSON поряд з цими зошитами, то доступ буде за замовчуванням. Після цього необхідно виконати кілька типових швидких оглядів."
   ]
  },
  {
   "cell_type": "code",
   "execution_count": 2,
   "metadata": {},
   "outputs": [],
   "source": [
    "# For convenience here, we are accessing the data in the working directory that contains our notebooks.\n",
    "# Normal best practise is to keep your data separate, but this keeps things simple.\n",
    "business = pd.read_json('JSON/business.json', lines=True)"
   ]
  },
  {
   "cell_type": "code",
   "execution_count": 3,
   "metadata": {},
   "outputs": [
    {
     "data": {
      "text/plain": [
       "(192609, 14)"
      ]
     },
     "execution_count": 3,
     "metadata": {},
     "output_type": "execute_result"
    }
   ],
   "source": [
    "business.shape"
   ]
  },
  {
   "cell_type": "code",
   "execution_count": 4,
   "metadata": {},
   "outputs": [
    {
     "data": {
      "text/html": [
       "<div>\n",
       "<style scoped>\n",
       "    .dataframe tbody tr th:only-of-type {\n",
       "        vertical-align: middle;\n",
       "    }\n",
       "\n",
       "    .dataframe tbody tr th {\n",
       "        vertical-align: top;\n",
       "    }\n",
       "\n",
       "    .dataframe thead th {\n",
       "        text-align: right;\n",
       "    }\n",
       "</style>\n",
       "<table border=\"1\" class=\"dataframe\">\n",
       "  <thead>\n",
       "    <tr style=\"text-align: right;\">\n",
       "      <th></th>\n",
       "      <th>business_id</th>\n",
       "      <th>name</th>\n",
       "      <th>address</th>\n",
       "      <th>city</th>\n",
       "      <th>state</th>\n",
       "      <th>postal_code</th>\n",
       "      <th>latitude</th>\n",
       "      <th>longitude</th>\n",
       "      <th>stars</th>\n",
       "      <th>review_count</th>\n",
       "      <th>is_open</th>\n",
       "      <th>attributes</th>\n",
       "      <th>categories</th>\n",
       "      <th>hours</th>\n",
       "    </tr>\n",
       "  </thead>\n",
       "  <tbody>\n",
       "    <tr>\n",
       "      <th>0</th>\n",
       "      <td>1SWheh84yJXfytovILXOAQ</td>\n",
       "      <td>Arizona Biltmore Golf Club</td>\n",
       "      <td>2818 E Camino Acequia Drive</td>\n",
       "      <td>Phoenix</td>\n",
       "      <td>AZ</td>\n",
       "      <td>85016</td>\n",
       "      <td>33.522143</td>\n",
       "      <td>-112.018481</td>\n",
       "      <td>3.0</td>\n",
       "      <td>5</td>\n",
       "      <td>0</td>\n",
       "      <td>{'GoodForKids': 'False'}</td>\n",
       "      <td>Golf, Active Life</td>\n",
       "      <td>None</td>\n",
       "    </tr>\n",
       "    <tr>\n",
       "      <th>1</th>\n",
       "      <td>QXAEGFB4oINsVuTFxEYKFQ</td>\n",
       "      <td>Emerald Chinese Restaurant</td>\n",
       "      <td>30 Eglinton Avenue W</td>\n",
       "      <td>Mississauga</td>\n",
       "      <td>ON</td>\n",
       "      <td>L5R 3E7</td>\n",
       "      <td>43.605499</td>\n",
       "      <td>-79.652289</td>\n",
       "      <td>2.5</td>\n",
       "      <td>128</td>\n",
       "      <td>1</td>\n",
       "      <td>{'RestaurantsReservations': 'True', 'GoodForMe...</td>\n",
       "      <td>Specialty Food, Restaurants, Dim Sum, Imported...</td>\n",
       "      <td>{'Monday': '9:0-0:0', 'Tuesday': '9:0-0:0', 'W...</td>\n",
       "    </tr>\n",
       "    <tr>\n",
       "      <th>2</th>\n",
       "      <td>gnKjwL_1w79qoiV3IC_xQQ</td>\n",
       "      <td>Musashi Japanese Restaurant</td>\n",
       "      <td>10110 Johnston Rd, Ste 15</td>\n",
       "      <td>Charlotte</td>\n",
       "      <td>NC</td>\n",
       "      <td>28210</td>\n",
       "      <td>35.092564</td>\n",
       "      <td>-80.859132</td>\n",
       "      <td>4.0</td>\n",
       "      <td>170</td>\n",
       "      <td>1</td>\n",
       "      <td>{'GoodForKids': 'True', 'NoiseLevel': 'u'avera...</td>\n",
       "      <td>Sushi Bars, Restaurants, Japanese</td>\n",
       "      <td>{'Monday': '17:30-21:30', 'Wednesday': '17:30-...</td>\n",
       "    </tr>\n",
       "    <tr>\n",
       "      <th>3</th>\n",
       "      <td>xvX2CttrVhyG2z1dFg_0xw</td>\n",
       "      <td>Farmers Insurance - Paul Lorenz</td>\n",
       "      <td>15655 W Roosevelt St, Ste 237</td>\n",
       "      <td>Goodyear</td>\n",
       "      <td>AZ</td>\n",
       "      <td>85338</td>\n",
       "      <td>33.455613</td>\n",
       "      <td>-112.395596</td>\n",
       "      <td>5.0</td>\n",
       "      <td>3</td>\n",
       "      <td>1</td>\n",
       "      <td>None</td>\n",
       "      <td>Insurance, Financial Services</td>\n",
       "      <td>{'Monday': '8:0-17:0', 'Tuesday': '8:0-17:0', ...</td>\n",
       "    </tr>\n",
       "    <tr>\n",
       "      <th>4</th>\n",
       "      <td>HhyxOkGAM07SRYtlQ4wMFQ</td>\n",
       "      <td>Queen City Plumbing</td>\n",
       "      <td>4209 Stuart Andrew Blvd, Ste F</td>\n",
       "      <td>Charlotte</td>\n",
       "      <td>NC</td>\n",
       "      <td>28217</td>\n",
       "      <td>35.190012</td>\n",
       "      <td>-80.887223</td>\n",
       "      <td>4.0</td>\n",
       "      <td>4</td>\n",
       "      <td>1</td>\n",
       "      <td>{'BusinessAcceptsBitcoin': 'False', 'ByAppoint...</td>\n",
       "      <td>Plumbing, Shopping, Local Services, Home Servi...</td>\n",
       "      <td>{'Monday': '7:0-23:0', 'Tuesday': '7:0-23:0', ...</td>\n",
       "    </tr>\n",
       "  </tbody>\n",
       "</table>\n",
       "</div>"
      ],
      "text/plain": [
       "              business_id                             name  \\\n",
       "0  1SWheh84yJXfytovILXOAQ       Arizona Biltmore Golf Club   \n",
       "1  QXAEGFB4oINsVuTFxEYKFQ       Emerald Chinese Restaurant   \n",
       "2  gnKjwL_1w79qoiV3IC_xQQ      Musashi Japanese Restaurant   \n",
       "3  xvX2CttrVhyG2z1dFg_0xw  Farmers Insurance - Paul Lorenz   \n",
       "4  HhyxOkGAM07SRYtlQ4wMFQ              Queen City Plumbing   \n",
       "\n",
       "                          address         city state postal_code   latitude  \\\n",
       "0     2818 E Camino Acequia Drive      Phoenix    AZ       85016  33.522143   \n",
       "1            30 Eglinton Avenue W  Mississauga    ON     L5R 3E7  43.605499   \n",
       "2       10110 Johnston Rd, Ste 15    Charlotte    NC       28210  35.092564   \n",
       "3   15655 W Roosevelt St, Ste 237     Goodyear    AZ       85338  33.455613   \n",
       "4  4209 Stuart Andrew Blvd, Ste F    Charlotte    NC       28217  35.190012   \n",
       "\n",
       "    longitude  stars  review_count  is_open  \\\n",
       "0 -112.018481    3.0             5        0   \n",
       "1  -79.652289    2.5           128        1   \n",
       "2  -80.859132    4.0           170        1   \n",
       "3 -112.395596    5.0             3        1   \n",
       "4  -80.887223    4.0             4        1   \n",
       "\n",
       "                                          attributes  \\\n",
       "0                           {'GoodForKids': 'False'}   \n",
       "1  {'RestaurantsReservations': 'True', 'GoodForMe...   \n",
       "2  {'GoodForKids': 'True', 'NoiseLevel': 'u'avera...   \n",
       "3                                               None   \n",
       "4  {'BusinessAcceptsBitcoin': 'False', 'ByAppoint...   \n",
       "\n",
       "                                          categories  \\\n",
       "0                                  Golf, Active Life   \n",
       "1  Specialty Food, Restaurants, Dim Sum, Imported...   \n",
       "2                  Sushi Bars, Restaurants, Japanese   \n",
       "3                      Insurance, Financial Services   \n",
       "4  Plumbing, Shopping, Local Services, Home Servi...   \n",
       "\n",
       "                                               hours  \n",
       "0                                               None  \n",
       "1  {'Monday': '9:0-0:0', 'Tuesday': '9:0-0:0', 'W...  \n",
       "2  {'Monday': '17:30-21:30', 'Wednesday': '17:30-...  \n",
       "3  {'Monday': '8:0-17:0', 'Tuesday': '8:0-17:0', ...  \n",
       "4  {'Monday': '7:0-23:0', 'Tuesday': '7:0-23:0', ...  "
      ]
     },
     "execution_count": 4,
     "metadata": {},
     "output_type": "execute_result"
    }
   ],
   "source": [
    "business.head()"
   ]
  },
  {
   "cell_type": "code",
   "execution_count": 5,
   "metadata": {},
   "outputs": [
    {
     "name": "stdout",
     "output_type": "stream",
     "text": [
      "<class 'pandas.core.frame.DataFrame'>\n",
      "RangeIndex: 192609 entries, 0 to 192608\n",
      "Data columns (total 14 columns):\n",
      " #   Column        Non-Null Count   Dtype  \n",
      "---  ------        --------------   -----  \n",
      " 0   business_id   192609 non-null  object \n",
      " 1   name          192609 non-null  object \n",
      " 2   address       192609 non-null  object \n",
      " 3   city          192609 non-null  object \n",
      " 4   state         192609 non-null  object \n",
      " 5   postal_code   192609 non-null  object \n",
      " 6   latitude      192609 non-null  float64\n",
      " 7   longitude     192609 non-null  float64\n",
      " 8   stars         192609 non-null  float64\n",
      " 9   review_count  192609 non-null  int64  \n",
      " 10  is_open       192609 non-null  int64  \n",
      " 11  attributes    163773 non-null  object \n",
      " 12  categories    192127 non-null  object \n",
      " 13  hours         147779 non-null  object \n",
      "dtypes: float64(3), int64(2), object(9)\n",
      "memory usage: 20.6+ MB\n"
     ]
    }
   ],
   "source": [
    "business.info()"
   ]
  },
  {
   "cell_type": "markdown",
   "metadata": {},
   "source": [
    "У цьому наборі даних не всі стовпці нам корисні. Ми майже впевнені, що нас не цікавлять конкретні адресі (address), атрибути (attributes), години роботи (hours), чи все ще відкритий заклад (is_open), широта (latitude) та довгота (longitude) та назва ресторану (name). Ми також вирішуємо, що не будемо проводити аналіз на рівні поштового індексу (postal_code). Тому ці колонки не розглядаємо. Тому наступною дією повинно бути створення списку цих стовпців і видалення їх з DataFrame. Запам’ятайте вісь (axis) та замініть аргументи! Також зауважте, що існує менше ненульових категорій, ніж є business_id. Ми повернемось до цього питання пізніше."
   ]
  },
  {
   "cell_type": "code",
   "execution_count": 6,
   "metadata": {},
   "outputs": [],
   "source": [
    "# task: create a list of columns to drop, call it drop_cols\n",
    "# then go ahead and drop those columns from the DataFrame\n",
    "# two lines of code here:\n",
    "drop_cols = ['address', 'attributes', 'hours', 'is_open', 'latitude', 'longitude', 'postal_code']\n",
    "business.drop(columns=drop_cols, inplace=True)"
   ]
  },
  {
   "cell_type": "code",
   "execution_count": 7,
   "metadata": {},
   "outputs": [
    {
     "data": {
      "text/html": [
       "<div>\n",
       "<style scoped>\n",
       "    .dataframe tbody tr th:only-of-type {\n",
       "        vertical-align: middle;\n",
       "    }\n",
       "\n",
       "    .dataframe tbody tr th {\n",
       "        vertical-align: top;\n",
       "    }\n",
       "\n",
       "    .dataframe thead th {\n",
       "        text-align: right;\n",
       "    }\n",
       "</style>\n",
       "<table border=\"1\" class=\"dataframe\">\n",
       "  <thead>\n",
       "    <tr style=\"text-align: right;\">\n",
       "      <th></th>\n",
       "      <th>business_id</th>\n",
       "      <th>name</th>\n",
       "      <th>city</th>\n",
       "      <th>state</th>\n",
       "      <th>stars</th>\n",
       "      <th>review_count</th>\n",
       "      <th>categories</th>\n",
       "    </tr>\n",
       "  </thead>\n",
       "  <tbody>\n",
       "    <tr>\n",
       "      <th>0</th>\n",
       "      <td>1SWheh84yJXfytovILXOAQ</td>\n",
       "      <td>Arizona Biltmore Golf Club</td>\n",
       "      <td>Phoenix</td>\n",
       "      <td>AZ</td>\n",
       "      <td>3.0</td>\n",
       "      <td>5</td>\n",
       "      <td>Golf, Active Life</td>\n",
       "    </tr>\n",
       "    <tr>\n",
       "      <th>1</th>\n",
       "      <td>QXAEGFB4oINsVuTFxEYKFQ</td>\n",
       "      <td>Emerald Chinese Restaurant</td>\n",
       "      <td>Mississauga</td>\n",
       "      <td>ON</td>\n",
       "      <td>2.5</td>\n",
       "      <td>128</td>\n",
       "      <td>Specialty Food, Restaurants, Dim Sum, Imported...</td>\n",
       "    </tr>\n",
       "    <tr>\n",
       "      <th>2</th>\n",
       "      <td>gnKjwL_1w79qoiV3IC_xQQ</td>\n",
       "      <td>Musashi Japanese Restaurant</td>\n",
       "      <td>Charlotte</td>\n",
       "      <td>NC</td>\n",
       "      <td>4.0</td>\n",
       "      <td>170</td>\n",
       "      <td>Sushi Bars, Restaurants, Japanese</td>\n",
       "    </tr>\n",
       "    <tr>\n",
       "      <th>3</th>\n",
       "      <td>xvX2CttrVhyG2z1dFg_0xw</td>\n",
       "      <td>Farmers Insurance - Paul Lorenz</td>\n",
       "      <td>Goodyear</td>\n",
       "      <td>AZ</td>\n",
       "      <td>5.0</td>\n",
       "      <td>3</td>\n",
       "      <td>Insurance, Financial Services</td>\n",
       "    </tr>\n",
       "    <tr>\n",
       "      <th>4</th>\n",
       "      <td>HhyxOkGAM07SRYtlQ4wMFQ</td>\n",
       "      <td>Queen City Plumbing</td>\n",
       "      <td>Charlotte</td>\n",
       "      <td>NC</td>\n",
       "      <td>4.0</td>\n",
       "      <td>4</td>\n",
       "      <td>Plumbing, Shopping, Local Services, Home Servi...</td>\n",
       "    </tr>\n",
       "  </tbody>\n",
       "</table>\n",
       "</div>"
      ],
      "text/plain": [
       "              business_id                             name         city state  \\\n",
       "0  1SWheh84yJXfytovILXOAQ       Arizona Biltmore Golf Club      Phoenix    AZ   \n",
       "1  QXAEGFB4oINsVuTFxEYKFQ       Emerald Chinese Restaurant  Mississauga    ON   \n",
       "2  gnKjwL_1w79qoiV3IC_xQQ      Musashi Japanese Restaurant    Charlotte    NC   \n",
       "3  xvX2CttrVhyG2z1dFg_0xw  Farmers Insurance - Paul Lorenz     Goodyear    AZ   \n",
       "4  HhyxOkGAM07SRYtlQ4wMFQ              Queen City Plumbing    Charlotte    NC   \n",
       "\n",
       "   stars  review_count                                         categories  \n",
       "0    3.0             5                                  Golf, Active Life  \n",
       "1    2.5           128  Specialty Food, Restaurants, Dim Sum, Imported...  \n",
       "2    4.0           170                  Sushi Bars, Restaurants, Japanese  \n",
       "3    5.0             3                      Insurance, Financial Services  \n",
       "4    4.0             4  Plumbing, Shopping, Local Services, Home Servi...  "
      ]
     },
     "execution_count": 7,
     "metadata": {},
     "output_type": "execute_result"
    }
   ],
   "source": [
    "business.head()"
   ]
  },
  {
   "cell_type": "markdown",
   "metadata": {},
   "source": [
    "Тепер ми маємо в таблиці корисні дані. Пам'ятайте наше перше завдання - визначити найпопулярніший тип ресторану. Зараз ми дивимось на стовпчик категорій. Ми могли б просто порахувати кожну окрему категорію в цьому стовпчику, як це робили в опитуванні власників домашніх тварин. Але наш стовпець категорій не у такому форматі, як ці дані. Кожен елемент у категоріях насправді є рядком, як ми демонструємо нижче, причому кожен пункт, який нас цікавить, знаходиться у рядку і розділений комами."
   ]
  },
  {
   "cell_type": "code",
   "execution_count": 8,
   "metadata": {},
   "outputs": [
    {
     "name": "stdout",
     "output_type": "stream",
     "text": [
      "Golf, Active Life\n"
     ]
    }
   ],
   "source": [
    "# print the first element of business['categories']\n",
    "print(business.categories[0])"
   ]
  },
  {
   "cell_type": "code",
   "execution_count": 9,
   "metadata": {},
   "outputs": [
    {
     "data": {
      "text/plain": [
       "str"
      ]
     },
     "execution_count": 9,
     "metadata": {},
     "output_type": "execute_result"
    }
   ],
   "source": [
    "# what is the type of this element?\n",
    "type(business.categories[0])"
   ]
  },
  {
   "cell_type": "code",
   "execution_count": 10,
   "metadata": {},
   "outputs": [
    {
     "data": {
      "text/plain": [
       "'G'"
      ]
     },
     "execution_count": 10,
     "metadata": {},
     "output_type": "execute_result"
    }
   ],
   "source": [
    "# if the first element were a list, this would return 'Tours', not 'T'\n",
    "business.categories[0][0]"
   ]
  },
  {
   "cell_type": "markdown",
   "metadata": {},
   "source": [
    "Тепер ми збираємось використовувати [тут](https://pandas.pydata.org/pandas-docs/stable/generated/pandas.Series.str.split.html)  метод pandas Series для того, щоб розбити ці рядки на списки."
   ]
  },
  {
   "cell_type": "code",
   "execution_count": 11,
   "metadata": {},
   "outputs": [],
   "source": [
    "# task: split the categories column (a pandas Series) into lists of categories,\n",
    "# e.g. the string \"Category1, Category2\" becomes the list [\"Category1\", \"Category2\"]\n",
    "# hint: pass the argument pat = ', ?' in to split on a comma which may be followed by a space\n",
    "business['categories'] = business['categories'].str.split(pat=', ?')"
   ]
  },
  {
   "cell_type": "code",
   "execution_count": 12,
   "metadata": {},
   "outputs": [
    {
     "data": {
      "text/plain": [
       "0                                  [Golf, Active Life]\n",
       "1    [Specialty Food, Restaurants, Dim Sum, Importe...\n",
       "2                  [Sushi Bars, Restaurants, Japanese]\n",
       "3                      [Insurance, Financial Services]\n",
       "4    [Plumbing, Shopping, Local Services, Home Serv...\n",
       "Name: categories, dtype: object"
      ]
     },
     "execution_count": 12,
     "metadata": {},
     "output_type": "execute_result"
    }
   ],
   "source": [
    "business['categories'].head()"
   ]
  },
  {
   "cell_type": "markdown",
   "metadata": {},
   "source": [
    "Зараз ми одержали списки типу pandas Series. Далі необіхдно застосувати технологію, яку ми використали при опитуванні власників домашніх тварин. У нас немає необхідності зберігати початковий довгий список категорій. Будемо використовувати метод, який підраховує і виводить перших 20 елементів за один прохід. Це займе для вашого комп'ютера приблизно 1-2 хвилини."
   ]
  },
  {
   "cell_type": "code",
   "execution_count": 13,
   "metadata": {},
   "outputs": [],
   "source": [
    "# task: count the frequency of each item in categories and keep the top twenty\n",
    "# hint: the latter can be done by passing an argument to the head method\n",
    "# assign the result to the variable category_counts - one line of code here:\n",
    "category_counts = business['categories'].apply(pd.Series).stack().reset_index(drop=True).value_counts().head(20)"
   ]
  },
  {
   "cell_type": "markdown",
   "metadata": {},
   "source": [
    "Тепер познайомимося з новим видом графіків: бар-графік. Він дає нам візуальне зображення частоти перших 20 категорій."
   ]
  },
  {
   "cell_type": "code",
   "execution_count": 14,
   "metadata": {},
   "outputs": [
    {
     "data": {
      "text/plain": [
       "<AxesSubplot:>"
      ]
     },
     "execution_count": 14,
     "metadata": {},
     "output_type": "execute_result"
    },
    {
     "data": {
      "image/png": "[encoded data removed]",
      "text/plain": [
       "<Figure size 432x288 with 1 Axes>"
      ]
     },
     "metadata": {
      "needs_background": "light"
     },
     "output_type": "display_data"
    }
   ],
   "source": [
    "category_counts.plot(kind='bar')"
   ]
  },
  {
   "cell_type": "markdown",
   "metadata": {},
   "source": [
    "Перший сюрприз - наш набір даних містить більше закладів, ніж просто бажана галузь (Ресторани). Ми отримали не лише ті дані, які нам потрібні. З часом це буде дивувати вас все менше і менше. Насправді, як науковець, ви здивуєтесь, коли хтось надасть вам чистий набір даних, що містить лише ті дані, які вам потрібні! Ресторани, як видно з графіку, є нашим найчастішим видом бізнесу, але вони становлять менше 60000 з розглянутих нами  188000 підприємств. Тепер поставимо перед собою завдання відфільтрувати та зберегти лише ті підприємства, які мають у своєму складі \"Ресторан\"."
   ]
  },
  {
   "cell_type": "markdown",
   "metadata": {},
   "source": [
    "Перш ніж ми розпочнемо фільтрацію за категоріями, згадайте те, що на початку було менше ненульових категорій, ніж бізнес_id. Скільки нульових (відсутніх) категорій наявні в даних?"
   ]
  },
  {
   "cell_type": "code",
   "execution_count": 15,
   "metadata": {},
   "outputs": [
    {
     "data": {
      "text/plain": [
       "482"
      ]
     },
     "execution_count": 15,
     "metadata": {},
     "output_type": "execute_result"
    }
   ],
   "source": [
    "pd.isna(business['categories']).sum()"
   ]
  },
  {
   "cell_type": "markdown",
   "metadata": {},
   "source": [
    "На моїх даних було 482 business_id, які не були пов'язані з жодною категорією. Очевидно, що вони не принесуть ніякої користі. По-перше, ми глянемо на кілька з них, щоб перевірити"
   ]
  },
  {
   "cell_type": "code",
   "execution_count": 16,
   "metadata": {},
   "outputs": [
    {
     "data": {
      "text/html": [
       "<div>\n",
       "<style scoped>\n",
       "    .dataframe tbody tr th:only-of-type {\n",
       "        vertical-align: middle;\n",
       "    }\n",
       "\n",
       "    .dataframe tbody tr th {\n",
       "        vertical-align: top;\n",
       "    }\n",
       "\n",
       "    .dataframe thead th {\n",
       "        text-align: right;\n",
       "    }\n",
       "</style>\n",
       "<table border=\"1\" class=\"dataframe\">\n",
       "  <thead>\n",
       "    <tr style=\"text-align: right;\">\n",
       "      <th></th>\n",
       "      <th>business_id</th>\n",
       "      <th>name</th>\n",
       "      <th>city</th>\n",
       "      <th>state</th>\n",
       "      <th>stars</th>\n",
       "      <th>review_count</th>\n",
       "      <th>categories</th>\n",
       "    </tr>\n",
       "  </thead>\n",
       "  <tbody>\n",
       "    <tr>\n",
       "      <th>265</th>\n",
       "      <td>xOR85RicYj642O3_iJ7hgg</td>\n",
       "      <td>Phoenix Valuations</td>\n",
       "      <td>Scottsdale</td>\n",
       "      <td>AZ</td>\n",
       "      <td>3.5</td>\n",
       "      <td>3</td>\n",
       "      <td>None</td>\n",
       "    </tr>\n",
       "    <tr>\n",
       "      <th>597</th>\n",
       "      <td>tWvep1usNNI3NYkoRbSb7g</td>\n",
       "      <td>Airdrie East Side Storage</td>\n",
       "      <td>Airdrie</td>\n",
       "      <td>AB</td>\n",
       "      <td>1.0</td>\n",
       "      <td>3</td>\n",
       "      <td>None</td>\n",
       "    </tr>\n",
       "    <tr>\n",
       "      <th>1020</th>\n",
       "      <td>llG2YxnevtFhW7LVa4QJXQ</td>\n",
       "      <td>Highfield Open Mri</td>\n",
       "      <td>Pittsburgh</td>\n",
       "      <td>PA</td>\n",
       "      <td>2.0</td>\n",
       "      <td>5</td>\n",
       "      <td>None</td>\n",
       "    </tr>\n",
       "    <tr>\n",
       "      <th>1332</th>\n",
       "      <td>zi2CV7isWyGRxVXJxdDQXg</td>\n",
       "      <td>Ceva Freight</td>\n",
       "      <td>Charlotte</td>\n",
       "      <td>NC</td>\n",
       "      <td>1.5</td>\n",
       "      <td>3</td>\n",
       "      <td>None</td>\n",
       "    </tr>\n",
       "    <tr>\n",
       "      <th>1770</th>\n",
       "      <td>oyPZZX2fQYpSBHk25tL26A</td>\n",
       "      <td>Joe's Pastizzi Plus</td>\n",
       "      <td>Etobicoke</td>\n",
       "      <td>ON</td>\n",
       "      <td>4.5</td>\n",
       "      <td>6</td>\n",
       "      <td>None</td>\n",
       "    </tr>\n",
       "  </tbody>\n",
       "</table>\n",
       "</div>"
      ],
      "text/plain": [
       "                 business_id                       name        city state  \\\n",
       "265   xOR85RicYj642O3_iJ7hgg         Phoenix Valuations  Scottsdale    AZ   \n",
       "597   tWvep1usNNI3NYkoRbSb7g  Airdrie East Side Storage     Airdrie    AB   \n",
       "1020  llG2YxnevtFhW7LVa4QJXQ         Highfield Open Mri  Pittsburgh    PA   \n",
       "1332  zi2CV7isWyGRxVXJxdDQXg               Ceva Freight   Charlotte    NC   \n",
       "1770  oyPZZX2fQYpSBHk25tL26A        Joe's Pastizzi Plus   Etobicoke    ON   \n",
       "\n",
       "      stars  review_count categories  \n",
       "265     3.5             3       None  \n",
       "597     1.0             3       None  \n",
       "1020    2.0             5       None  \n",
       "1332    1.5             3       None  \n",
       "1770    4.5             6       None  "
      ]
     },
     "execution_count": 16,
     "metadata": {},
     "output_type": "execute_result"
    }
   ],
   "source": [
    "business.loc[pd.isna(business['categories'])].head()"
   ]
  },
  {
   "cell_type": "markdown",
   "metadata": {},
   "source": [
    "Впевнились, що в стовпці категорій для цих підприємств немає інформації. Тепер видалимо ці 482 рядки з DataFrame. Запишемо результат повернення у початкову структуру DataFrame."
   ]
  },
  {
   "cell_type": "code",
   "execution_count": 17,
   "metadata": {},
   "outputs": [],
   "source": [
    "# hint, the opposite of pd.isna() is ~pd.isna()\n",
    "# one line of code here, assigning the result back to business\n",
    "business = business.loc[pd.notna(business['categories'])]"
   ]
  },
  {
   "cell_type": "markdown",
   "metadata": {},
   "source": [
    "Згадаймо, як ми відфільтрували опитування власників домашніх тварин, щоб вибрати лише власників собак. Тепер ми збираємося фільтрувати наш бізнес DataFrame, щоб зберегти лише ті рядки (підприємства), які є ресторанами. Ми зробимо це так само, як робили при тестуванні того, чи 'собака' в списку, хоча зберігатимемо всі стовпці, не будемо обчислювати підсумкову статистику та замінимо наш початковий DataFrame. Пам'ятаймо, що зараз у нас хороший акуратний список категорій."
   ]
  },
  {
   "cell_type": "code",
   "execution_count": 18,
   "metadata": {},
   "outputs": [],
   "source": [
    "business = business.loc[business['categories'].apply(lambda x: 'Restaurants' in x), :]"
   ]
  },
  {
   "cell_type": "code",
   "execution_count": 19,
   "metadata": {},
   "outputs": [
    {
     "data": {
      "text/plain": [
       "(59371, 7)"
      ]
     },
     "execution_count": 19,
     "metadata": {},
     "output_type": "execute_result"
    }
   ],
   "source": [
    "business.shape"
   ]
  },
  {
   "cell_type": "markdown",
   "metadata": {},
   "source": [
    "І тепер ми можемо порахувати категорії, оскільки вони зараз мають бути ресторанами"
   ]
  },
  {
   "cell_type": "code",
   "execution_count": 20,
   "metadata": {},
   "outputs": [],
   "source": [
    "restaurant_category_counts = business['categories'].apply(pd.Series).stack().reset_index(drop=True).value_counts().head(20)"
   ]
  },
  {
   "cell_type": "code",
   "execution_count": 21,
   "metadata": {},
   "outputs": [
    {
     "data": {
      "text/plain": [
       "Restaurants    59371\n",
       "Food           14800\n",
       "Nightlife       8562\n",
       "Bars            8182\n",
       "Sandwiches      7332\n",
       "dtype: int64"
      ]
     },
     "execution_count": 21,
     "metadata": {},
     "output_type": "execute_result"
    }
   ],
   "source": [
    "restaurant_category_counts.head()"
   ]
  },
  {
   "cell_type": "code",
   "execution_count": 22,
   "metadata": {},
   "outputs": [
    {
     "data": {
      "text/plain": [
       "<AxesSubplot:>"
      ]
     },
     "execution_count": 22,
     "metadata": {},
     "output_type": "execute_result"
    },
    {
     "data": {
      "image/png": "[encoded data removed]",
      "text/plain": [
       "<Figure size 432x288 with 1 Axes>"
      ]
     },
     "metadata": {
      "needs_background": "light"
     },
     "output_type": "display_data"
    }
   ],
   "source": [
    "# 'Restaurants', of course, is our most frequent entry because, by definition, it is\n",
    "# present in every case! Plot a bar chart now of the frequencies of the other values.\n",
    "restaurant_category_counts[1:].plot(kind='bar')"
   ]
  },
  {
   "cell_type": "markdown",
   "metadata": {},
   "source": [
    "Ми бачимо, що в нас ще є кілька категорій шуму, такі як \"Food\" та \"Nightlife\". Але ми також бачимо, що ресторани піци, як здається, були б гарною ставкою для нашого випробування маркетингової кампанії! Однак ми також помічаємо, що слово italian тут часто використовується, і, використовуючи наші знання про область дослідження, ми вважаємо, що ми будемо використовувати бізнес, який згадує або слово Pizza або italian."
   ]
  },
  {
   "cell_type": "markdown",
   "metadata": {},
   "source": [
    "## Збережіть потрібний business ID у файл\n",
    "Тепер настав час створити остаточний перелік business ID, які нас цікавлять. Це 'Restaurant', які в стовпці категорій містять або \"italian\", або \"Pizza\"."
   ]
  },
  {
   "cell_type": "code",
   "execution_count": 23,
   "metadata": {},
   "outputs": [],
   "source": [
    "# task use a lambda function on the categories column again, but now you're not testing for\n",
    "# 'Restaurant' but either 'Pizza or 'Italian'\n",
    "# assign the result to italian_pizza (one line of code)\n",
    "italian_pizza = business.loc[business['categories'].apply(lambda x: len({'Pizza', 'Italian'} & set(x)) > 0), :]"
   ]
  },
  {
   "cell_type": "code",
   "execution_count": 24,
   "metadata": {},
   "outputs": [
    {
     "data": {
      "text/html": [
       "<div>\n",
       "<style scoped>\n",
       "    .dataframe tbody tr th:only-of-type {\n",
       "        vertical-align: middle;\n",
       "    }\n",
       "\n",
       "    .dataframe tbody tr th {\n",
       "        vertical-align: top;\n",
       "    }\n",
       "\n",
       "    .dataframe thead th {\n",
       "        text-align: right;\n",
       "    }\n",
       "</style>\n",
       "<table border=\"1\" class=\"dataframe\">\n",
       "  <thead>\n",
       "    <tr style=\"text-align: right;\">\n",
       "      <th></th>\n",
       "      <th>business_id</th>\n",
       "      <th>name</th>\n",
       "      <th>city</th>\n",
       "      <th>state</th>\n",
       "      <th>stars</th>\n",
       "      <th>review_count</th>\n",
       "      <th>categories</th>\n",
       "    </tr>\n",
       "  </thead>\n",
       "  <tbody>\n",
       "    <tr>\n",
       "      <th>13</th>\n",
       "      <td>fweCYi8FmbJXHCqLnwuk8w</td>\n",
       "      <td>Marco's Pizza</td>\n",
       "      <td>Mentor-on-the-Lake</td>\n",
       "      <td>OH</td>\n",
       "      <td>4.0</td>\n",
       "      <td>16</td>\n",
       "      <td>[Italian, Restaurants, Pizza, Chicken Wings]</td>\n",
       "    </tr>\n",
       "    <tr>\n",
       "      <th>17</th>\n",
       "      <td>PZ-LZzSlhSe9utkQYU8pFg</td>\n",
       "      <td>Carluccio's Tivoli Gardens</td>\n",
       "      <td>Las Vegas</td>\n",
       "      <td>NV</td>\n",
       "      <td>4.0</td>\n",
       "      <td>40</td>\n",
       "      <td>[Restaurants, Italian]</td>\n",
       "    </tr>\n",
       "    <tr>\n",
       "      <th>35</th>\n",
       "      <td>BvYU3jvGd0TJ7IyZdfiN2Q</td>\n",
       "      <td>Manzetti's Tavern</td>\n",
       "      <td>Charlotte</td>\n",
       "      <td>NC</td>\n",
       "      <td>3.5</td>\n",
       "      <td>16</td>\n",
       "      <td>[Sandwiches, Italian, American (Traditional), ...</td>\n",
       "    </tr>\n",
       "    <tr>\n",
       "      <th>80</th>\n",
       "      <td>PkDghu4aan2_wxrhXjTEgg</td>\n",
       "      <td>MiraKuru</td>\n",
       "      <td>Calgary</td>\n",
       "      <td>AB</td>\n",
       "      <td>3.5</td>\n",
       "      <td>16</td>\n",
       "      <td>[Nightlife, Italian, Restaurants, Japanese, Lo...</td>\n",
       "    </tr>\n",
       "    <tr>\n",
       "      <th>83</th>\n",
       "      <td>RFbMVekR8lU9tPJ8sWrwHg</td>\n",
       "      <td>Tavolino</td>\n",
       "      <td>Toronto</td>\n",
       "      <td>ON</td>\n",
       "      <td>4.0</td>\n",
       "      <td>18</td>\n",
       "      <td>[Italian, Restaurants]</td>\n",
       "    </tr>\n",
       "  </tbody>\n",
       "</table>\n",
       "</div>"
      ],
      "text/plain": [
       "               business_id                        name                city  \\\n",
       "13  fweCYi8FmbJXHCqLnwuk8w               Marco's Pizza  Mentor-on-the-Lake   \n",
       "17  PZ-LZzSlhSe9utkQYU8pFg  Carluccio's Tivoli Gardens           Las Vegas   \n",
       "35  BvYU3jvGd0TJ7IyZdfiN2Q           Manzetti's Tavern           Charlotte   \n",
       "80  PkDghu4aan2_wxrhXjTEgg                    MiraKuru             Calgary   \n",
       "83  RFbMVekR8lU9tPJ8sWrwHg                    Tavolino             Toronto   \n",
       "\n",
       "   state  stars  review_count  \\\n",
       "13    OH    4.0            16   \n",
       "17    NV    4.0            40   \n",
       "35    NC    3.5            16   \n",
       "80    AB    3.5            16   \n",
       "83    ON    4.0            18   \n",
       "\n",
       "                                           categories  \n",
       "13       [Italian, Restaurants, Pizza, Chicken Wings]  \n",
       "17                             [Restaurants, Italian]  \n",
       "35  [Sandwiches, Italian, American (Traditional), ...  \n",
       "80  [Nightlife, Italian, Restaurants, Japanese, Lo...  \n",
       "83                             [Italian, Restaurants]  "
      ]
     },
     "execution_count": 24,
     "metadata": {},
     "output_type": "execute_result"
    }
   ],
   "source": [
    "italian_pizza.head()"
   ]
  },
  {
   "cell_type": "code",
   "execution_count": 25,
   "metadata": {},
   "outputs": [
    {
     "data": {
      "text/plain": [
       "(9224, 7)"
      ]
     },
     "execution_count": 25,
     "metadata": {},
     "output_type": "execute_result"
    }
   ],
   "source": [
    "# Check the shape of the DataFrame\n",
    "italian_pizza.shape"
   ]
  },
  {
   "cell_type": "code",
   "execution_count": 26,
   "metadata": {},
   "outputs": [],
   "source": [
    "# task: use panda's to_csv DataFrame method to save the result to a file\n",
    "# use the index argument to suppress saving the index\n",
    "# use the columns argument to save only the business_id, review_count, stars, and state columns\n",
    "# one line of code here\n",
    "italian_pizza.to_csv('out/04_lab4_italian_pizza.csv', index=None, columns=['business_id', 'review_count', 'stars', 'state'])"
   ]
  },
  {
   "cell_type": "markdown",
   "metadata": {},
   "source": [
    "# Підсумок\n",
    "Ми працювали з достатньо суперечливими даними і  зробили деякий дослідницький аналіз цих даних. Ми прочитали  дані і витягували список категорій з одного стовпця, що є нетривіальною задачею. Потім ми вивчили дані та виявили популярний тип кухні, а потім використали їх для вилучення лише відповідних business ID для того, щоб використовувати їх як ключові елементи на наступному кроці."
   ]
  }
 ],
 "metadata": {
  "kernelspec": {
   "display_name": "Python 3",
   "language": "python",
   "name": "python3"
  },
  "language_info": {
   "codemirror_mode": {
    "name": "ipython",
    "version": 3
   },
   "file_extension": ".py",
   "mimetype": "text/x-python",
   "name": "python",
   "nbconvert_exporter": "python",
   "pygments_lexer": "ipython3",
   "version": "3.9.5"
  }
 },
 "nbformat": 4,
 "nbformat_minor": 2
}
