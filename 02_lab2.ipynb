{
 "cells": [
  {
   "cell_type": "markdown",
   "metadata": {},
   "source": [
    "# Лабораторна робота №2"
   ]
  },
  {
   "cell_type": "markdown",
   "metadata": {},
   "source": [
    "## Вступ до numpy і matplotlib\n",
    "Для продовження роботи необхідне знайомство зі стандартними типами python, такими як списки та словники. У цьому зошиті надано вправи для того, щоб навчитися працювати з масивами (матрицями) numpy, та зручні способи виконання операцій над ними."
   ]
  },
  {
   "cell_type": "markdown",
   "metadata": {},
   "source": [
    "Розглянемо рівняння для прямої  $y = mx+c$, де $m$ позначає нахил, а $c$ - зсув. Нехай необхідно вирішити задачу лінійної регресії, у якій  $m$ і $c$ - це невідомі параметри, які визначаються з даних. Тоді $m$  замінюється на  $\\beta_1$ і $c$ на $\\beta_0$, де $\\beta_i$ позначає параметр, який потрібно визначити. Таким чином, формула прямої лінії буде записана  $y = \\beta_1x + \\beta_0$ або $y = \\beta_0 + \\beta_1x$. "
   ]
  },
  {
   "cell_type": "markdown",
   "metadata": {},
   "source": [
    "Основне завдання, яке потрібно виконати в цьому зошиті, полягає у тому, що необхідно задати послідовність чисел (кілька значень  $x$) і створити послідовність виводу (кілька значень $y$). Нехай нахил лінії 5, а  зсув дорівнює -1."
   ]
  },
  {
   "cell_type": "code",
   "execution_count": 1,
   "metadata": {
    "scrolled": true
   },
   "outputs": [],
   "source": [
    "m = 5\n",
    "c = -1\n",
    "x = [0, 1, 2, 3, 4, 5, 6]"
   ]
  },
  {
   "cell_type": "markdown",
   "metadata": {},
   "source": [
    "Будемо зберігати наші декілька значень $ x $ у Python-списку."
   ]
  },
  {
   "cell_type": "code",
   "execution_count": 2,
   "metadata": {
    "scrolled": true
   },
   "outputs": [],
   "source": [
    "# Завдання: Сформувати вихідний список значень y\n",
    "# запишіть код формування тут:\n",
    "y = [m * x_i + c for x_i in x]"
   ]
  },
  {
   "cell_type": "code",
   "execution_count": 3,
   "metadata": {
    "scrolled": true
   },
   "outputs": [
    {
     "name": "stdout",
     "output_type": "stream",
     "text": [
      "[-1, 4, 9, 14, 19, 24, 29]\n"
     ]
    }
   ],
   "source": [
    "print(y)"
   ]
  },
  {
   "cell_type": "markdown",
   "metadata": {},
   "source": [
    "Хоча списки характерні саме для мови Python, але вони громіздкі при виконанні масових чисельних чи матричних операцій."
   ]
  },
  {
   "cell_type": "markdown",
   "metadata": {},
   "source": [
    "## numpy\n",
    "Виконати те ж саме завдання, використовуючи numpy."
   ]
  },
  {
   "cell_type": "code",
   "execution_count": 4,
   "metadata": {
    "scrolled": true
   },
   "outputs": [],
   "source": [
    "# Завдання: імпортуємо NumPy\n",
    "# запишіть код формування масиву тут:\n",
    "m = 5\n",
    "c = -1\n",
    "x = [i for i in range(50)]"
   ]
  },
  {
   "cell_type": "code",
   "execution_count": 5,
   "metadata": {
    "scrolled": false
   },
   "outputs": [],
   "source": [
    "import numpy as np\n",
    "X = np.array(x)\n",
    "Y = m*X + c"
   ]
  },
  {
   "cell_type": "code",
   "execution_count": 6,
   "metadata": {
    "scrolled": true
   },
   "outputs": [
    {
     "name": "stdout",
     "output_type": "stream",
     "text": [
      "[ -1   4   9  14  19  24  29  34  39  44  49  54  59  64  69  74  79  84\n",
      "  89  94  99 104 109 114 119 124 129 134 139 144 149 154 159 164 169 174\n",
      " 179 184 189 194 199 204 209 214 219 224 229 234 239 244]\n"
     ]
    }
   ],
   "source": [
    "print(Y)"
   ]
  },
  {
   "cell_type": "markdown",
   "metadata": {},
   "source": [
    "## matplotlib\n",
    "Тепер у нас є відповідні вхідні та вихідні значення, X та Y. Для наглядності було б добре їх бачити на графіку. Хоча функція plot дуже корисна для послідовностей, у нашому випадку тут маємо послідовність точок, які лежать на прямій. Це означає, що на простому графіку лінії неможливо визначити, чи є одна пряма лінія між двома кінцевими точками, чи це є ряд точок. Показати окремі точки більш інформативно,  тому тут ми будемо використовувати scatter plot, а не line plot."
   ]
  },
  {
   "cell_type": "code",
   "execution_count": 7,
   "metadata": {
    "scrolled": true
   },
   "outputs": [],
   "source": [
    "import matplotlib.pyplot as plt"
   ]
  },
  {
   "cell_type": "code",
   "execution_count": 8,
   "metadata": {
    "scrolled": true
   },
   "outputs": [
    {
     "data": {
      "text/plain": [
       "<matplotlib.collections.PathCollection at 0x7f4172962d30>"
      ]
     },
     "execution_count": 8,
     "metadata": {},
     "output_type": "execute_result"
    },
    {
     "data": {
      "image/png": "[encoded data removed]",
      "text/plain": [
       "<Figure size 432x288 with 1 Axes>"
      ]
     },
     "metadata": {
      "needs_background": "light"
     },
     "output_type": "display_data"
    }
   ],
   "source": [
    "# Завдання: Створіть scatter plot для X і Y\n",
    "#Підказка: або зверніться до документації matplotlib, або після імпорту pyplot використовуйте автоматичне завершення Jupyter\n",
    "# Бажано знайти відповідну scatter plot функцію \n",
    "# Пишіть код програми тут:\n",
    "chart = plt.scatter(X, Y)\n",
    "plt.xlabel(\"X (from numpy array)\")\n",
    "plt.ylabel(\"Y = mX + c\")\n",
    "chart"
   ]
  },
  {
   "cell_type": "markdown",
   "metadata": {},
   "source": [
    "# Висновок\n",
    "Після успішного завершення цього зошита ми набули необхідних навичок користування Jupyter notebook для розробки послідовності маніпуляцій з даними, які включають описовий відформатований текст. Застосували NumPy і скористалися типами даних і операціями, які дозволяють швидко виконувати операції з даними. Саме тому Python та його екосистема чудово підходить для обробки та прикладного аналізу наукових даних. Біблітека Pandas, яку ми будемо застосовувати, є обгорткою модуля NumPy. В ході виконання завдання застосовано візуалізацію для даних, яку ми також будемо використовувати в наступних зошитах."
   ]
  },
  {
   "cell_type": "code",
   "execution_count": null,
   "metadata": {},
   "outputs": [],
   "source": []
  }
 ],
 "metadata": {
  "kernelspec": {
   "display_name": "Python 3",
   "language": "python",
   "name": "python3"
  },
  "language_info": {
   "codemirror_mode": {
    "name": "ipython",
    "version": 3
   },
   "file_extension": ".py",
   "mimetype": "text/x-python",
   "name": "python",
   "nbconvert_exporter": "python",
   "pygments_lexer": "ipython3",
   "version": "3.9.5"
  }
 },
 "nbformat": 4,
 "nbformat_minor": 2
}
