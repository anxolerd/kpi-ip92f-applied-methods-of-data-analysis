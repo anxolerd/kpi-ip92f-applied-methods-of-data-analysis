{
 "cells": [
  {
   "cell_type": "markdown",
   "metadata": {},
   "source": [
    "# Лабораторна робота №5"
   ]
  },
  {
   "cell_type": "markdown",
   "metadata": {},
   "source": [
    "## Добування бажаних бізнес оглядів \n",
    "В попередньому зошиті ми досягли двох речей. \n",
    "По-перше, ми визначили категорії бізнесу (italian / Pizza), на які буде спрямована наша кампанія. \n",
    "По-друге, ми визначили ідентифікатори підприємств (business ID), пов’язані з цими категоріями. Знання business ID дозволяє вибрати  з файлу відгуків лише ті відгуки, які нас цікавлять. Перш ніж поспішати читати дані оглядів в один великий фрейм даних, щоб потім відфільтрувати лише ті ідентифікатори, які вас цікавлять, ви, як Data Scientist, спочатку  повинні отримати уявлення про розмір файлу. Файл оглядів досить великий (майже шість мільйонів рядків). Якщо у вас дуже хороший комп'ютер з великим обсягом оперативної пам’яті, або ви чомусь хочете запустити монітор системи / пам’яті і спостерігати, як вільна пам'ять падає все далі і далі, поки комп'ютер не захопить її всю, вам варто замислитися про те, як читати лише ті рядки, які нас дійсно цікавлять. Таким чином, ми будемо споживати лише мінімум необхідної оперативної пам’яті. Звичайно, загалом, навіть у цьому випадку нам  слід робити якийсь розрахунок, чи відповідає файл можливостям комп'ютера. У цьому випадку слід мати подвійний запас ресурсів для більшості сучасних комп'ютерів. Завдання цього зошита - проаналізувати файл даних з оглядами та зберегти (набагато меншу) підмножину даних, які нас власне цікавлять."
   ]
  },
  {
   "cell_type": "code",
   "execution_count": 1,
   "metadata": {},
   "outputs": [],
   "source": [
    "# import the required libraries here\n",
    "import pandas as pd"
   ]
  },
  {
   "cell_type": "markdown",
   "metadata": {},
   "source": [
    "##  Список необхідних  business IDs\n",
    "Спочатку нам потрібно прочитати  список  business ID, який ми отримали раніше."
   ]
  },
  {
   "cell_type": "code",
   "execution_count": 2,
   "metadata": {},
   "outputs": [],
   "source": [
    "# task: read in our previously created file that contains the business IDs of interest\n",
    "# one line\n",
    "businesses = pd.read_csv('out/04_lab4_italian_pizza.csv')"
   ]
  },
  {
   "cell_type": "markdown",
   "metadata": {},
   "source": [
    "Важливо спочатку  зробити швидку перевірку зчитаних даних."
   ]
  },
  {
   "cell_type": "code",
   "execution_count": 3,
   "metadata": {},
   "outputs": [
    {
     "data": {
      "text/html": [
       "<div>\n",
       "<style scoped>\n",
       "    .dataframe tbody tr th:only-of-type {\n",
       "        vertical-align: middle;\n",
       "    }\n",
       "\n",
       "    .dataframe tbody tr th {\n",
       "        vertical-align: top;\n",
       "    }\n",
       "\n",
       "    .dataframe thead th {\n",
       "        text-align: right;\n",
       "    }\n",
       "</style>\n",
       "<table border=\"1\" class=\"dataframe\">\n",
       "  <thead>\n",
       "    <tr style=\"text-align: right;\">\n",
       "      <th></th>\n",
       "      <th>business_id</th>\n",
       "      <th>review_count</th>\n",
       "      <th>stars</th>\n",
       "      <th>state</th>\n",
       "    </tr>\n",
       "  </thead>\n",
       "  <tbody>\n",
       "    <tr>\n",
       "      <th>0</th>\n",
       "      <td>fweCYi8FmbJXHCqLnwuk8w</td>\n",
       "      <td>16</td>\n",
       "      <td>4.0</td>\n",
       "      <td>OH</td>\n",
       "    </tr>\n",
       "    <tr>\n",
       "      <th>1</th>\n",
       "      <td>PZ-LZzSlhSe9utkQYU8pFg</td>\n",
       "      <td>40</td>\n",
       "      <td>4.0</td>\n",
       "      <td>NV</td>\n",
       "    </tr>\n",
       "    <tr>\n",
       "      <th>2</th>\n",
       "      <td>BvYU3jvGd0TJ7IyZdfiN2Q</td>\n",
       "      <td>16</td>\n",
       "      <td>3.5</td>\n",
       "      <td>NC</td>\n",
       "    </tr>\n",
       "    <tr>\n",
       "      <th>3</th>\n",
       "      <td>PkDghu4aan2_wxrhXjTEgg</td>\n",
       "      <td>16</td>\n",
       "      <td>3.5</td>\n",
       "      <td>AB</td>\n",
       "    </tr>\n",
       "    <tr>\n",
       "      <th>4</th>\n",
       "      <td>RFbMVekR8lU9tPJ8sWrwHg</td>\n",
       "      <td>18</td>\n",
       "      <td>4.0</td>\n",
       "      <td>ON</td>\n",
       "    </tr>\n",
       "  </tbody>\n",
       "</table>\n",
       "</div>"
      ],
      "text/plain": [
       "              business_id  review_count  stars state\n",
       "0  fweCYi8FmbJXHCqLnwuk8w            16    4.0    OH\n",
       "1  PZ-LZzSlhSe9utkQYU8pFg            40    4.0    NV\n",
       "2  BvYU3jvGd0TJ7IyZdfiN2Q            16    3.5    NC\n",
       "3  PkDghu4aan2_wxrhXjTEgg            16    3.5    AB\n",
       "4  RFbMVekR8lU9tPJ8sWrwHg            18    4.0    ON"
      ]
     },
     "execution_count": 3,
     "metadata": {},
     "output_type": "execute_result"
    }
   ],
   "source": [
    "businesses.head()"
   ]
  },
  {
   "cell_type": "markdown",
   "metadata": {},
   "source": [
    "Ми хочемо відобразити лише колонку business_id як список. Варто також зробити подвійну перевірку, чи відповідає він стовпцю business_id, наведеному вище."
   ]
  },
  {
   "cell_type": "code",
   "execution_count": 4,
   "metadata": {},
   "outputs": [
    {
     "name": "stdout",
     "output_type": "stream",
     "text": [
      "['fweCYi8FmbJXHCqLnwuk8w' 'PZ-LZzSlhSe9utkQYU8pFg'\n",
      " 'BvYU3jvGd0TJ7IyZdfiN2Q' 'PkDghu4aan2_wxrhXjTEgg'\n",
      " 'RFbMVekR8lU9tPJ8sWrwHg']\n"
     ]
    }
   ],
   "source": [
    "business_ids = businesses['business_id'].values\n",
    "print(business_ids[:5])"
   ]
  },
  {
   "cell_type": "markdown",
   "metadata": {},
   "source": [
    "## Фільтрування великого файлу даних фрагментами\n",
    "Файл даних з оглядами містить близько 6 мільйонів рядків. Нам немає потреби використовувати всі ці рядки. Наш загальний підхід полягає в тому, щоб прочитати файл і перевірити business_id у кожному рядку. Якщо цей ідентифікатор міститься в нашому списку розшукуваних ідентифікаторів, ми збережемо цей рядок. Це буде найшвидше, але найдорожче для пам'яті, за один раз прочитати весь файл з диску, а потім фільтрувати рядки в пам'яті. З іншого боку, найефективніше з точки зору використання пам’яті читати по одному запису за один раз, зразу ж перевіряти, чи потрібний нам цей рядок (і відкинути, якщо ні). Такий підхід буде найповільнішим. Ми можемо досягти балансу, коли будемо вибирати достатньо великий фрагмент, який все ще легко вписується в пам'ять, але при цьому нам не потрібно читати занадто багато фрагментів."
   ]
  },
  {
   "cell_type": "code",
   "execution_count": 5,
   "metadata": {},
   "outputs": [],
   "source": [
    "# For convenience here, again we are accessing the data in the working directory that contains our notebooks.\n",
    "# Normal best practise is to keep your data separate, but this keeps things simple here.\n",
    "# If you're comfortable specifying a filepath to files outside of this working directory, then feel free to do so.\n",
    "# task: create a reader object for the review json file\n",
    "# Hint: use lines=True as before but add the chunksize=100000 parameter\n",
    "# one line of code here\n",
    "review_reader = pd.read_json('JSON/review.json', chunksize=100000, lines=True)"
   ]
  },
  {
   "cell_type": "markdown",
   "metadata": {},
   "source": [
    "Ми використовуємо магію часу для наступної комірки, не цікавлячись тим, скільки часу це потребуватиме. Якщо у вас є час і вам цікаво, ви можете поекспериментувати з розміром фрагменту і контролювати використання системної пам'яті та час, який займає робота цієї комірки. Я пропоную вам зберегти свій зошит перед запуском цієї комірки, про всяк випадок."
   ]
  },
  {
   "cell_type": "code",
   "execution_count": 6,
   "metadata": {},
   "outputs": [
    {
     "name": "stdout",
     "output_type": "stream",
     "text": [
      "CPU times: user 1min 17s, sys: 9.25 s, total: 1min 26s\n",
      "Wall time: 1min 26s\n"
     ]
    }
   ],
   "source": [
    "%%time\n",
    "# task: process the file one chunk at a time,\n",
    "# filter that chunk for rows with a business_id in business_ids\n",
    "# You can either do this within in a loop, having initialized an empty list,\n",
    "# or using a more pythonic list comprehension\n",
    "reviews = pd.concat([chunk.loc[chunk.business_id.isin(business_ids)] for chunk in review_reader])\n",
    "# (this took some 24 minutes on my old i7)"
   ]
  },
  {
   "cell_type": "markdown",
   "metadata": {},
   "source": [
    "Після успішного виконання коду у вас є прочитані бажані огляди. Але ми ще не маємо їх у зручній DataFrame:"
   ]
  },
  {
   "cell_type": "code",
   "execution_count": 7,
   "metadata": {},
   "outputs": [
    {
     "data": {
      "text/plain": [
       "pandas.core.frame.DataFrame"
      ]
     },
     "execution_count": 7,
     "metadata": {},
     "output_type": "execute_result"
    }
   ],
   "source": [
    "type(reviews)"
   ]
  },
  {
   "cell_type": "code",
   "execution_count": 8,
   "metadata": {},
   "outputs": [
    {
     "data": {
      "text/plain": [
       "594862"
      ]
     },
     "execution_count": 8,
     "metadata": {},
     "output_type": "execute_result"
    }
   ],
   "source": [
    "len(reviews)"
   ]
  },
  {
   "cell_type": "markdown",
   "metadata": {},
   "source": [
    "Перетворіть свої огляди в структуру DataFrame. \n",
    "Підказка: тут ви можете скористатися методом concat бібліотеки pandas."
   ]
  },
  {
   "cell_type": "code",
   "execution_count": 9,
   "metadata": {},
   "outputs": [
    {
     "data": {
      "text/html": [
       "<div>\n",
       "<style scoped>\n",
       "    .dataframe tbody tr th:only-of-type {\n",
       "        vertical-align: middle;\n",
       "    }\n",
       "\n",
       "    .dataframe tbody tr th {\n",
       "        vertical-align: top;\n",
       "    }\n",
       "\n",
       "    .dataframe thead th {\n",
       "        text-align: right;\n",
       "    }\n",
       "</style>\n",
       "<table border=\"1\" class=\"dataframe\">\n",
       "  <thead>\n",
       "    <tr style=\"text-align: right;\">\n",
       "      <th></th>\n",
       "      <th>review_id</th>\n",
       "      <th>user_id</th>\n",
       "      <th>business_id</th>\n",
       "      <th>stars</th>\n",
       "      <th>useful</th>\n",
       "      <th>funny</th>\n",
       "      <th>cool</th>\n",
       "      <th>text</th>\n",
       "      <th>date</th>\n",
       "    </tr>\n",
       "  </thead>\n",
       "  <tbody>\n",
       "    <tr>\n",
       "      <th>5</th>\n",
       "      <td>fdiNeiN_hoCxCMy2wTRW9g</td>\n",
       "      <td>w31MKYsNFMrjhWxxAb5wIw</td>\n",
       "      <td>eU_713ec6fTGNO4BegRaww</td>\n",
       "      <td>4</td>\n",
       "      <td>0</td>\n",
       "      <td>0</td>\n",
       "      <td>0</td>\n",
       "      <td>I'll be the first to admit that I was not exci...</td>\n",
       "      <td>2013-01-20 13:25:59</td>\n",
       "    </tr>\n",
       "    <tr>\n",
       "      <th>12</th>\n",
       "      <td>Z7wgXp98wYB57QdRY3HQ3w</td>\n",
       "      <td>GYNnVehQeXjty0xH7-6Fhw</td>\n",
       "      <td>FxLfqxdYPA6Z85PFKaqLrg</td>\n",
       "      <td>4</td>\n",
       "      <td>0</td>\n",
       "      <td>0</td>\n",
       "      <td>0</td>\n",
       "      <td>Wow. So surprised at the one and two star revi...</td>\n",
       "      <td>2016-05-07 01:36:53</td>\n",
       "    </tr>\n",
       "    <tr>\n",
       "      <th>15</th>\n",
       "      <td>svK3nBU7Rk8VfGorlrN52A</td>\n",
       "      <td>NJlxGtouq06hhC7sS2ECYw</td>\n",
       "      <td>YvrylyuWgbP90RgMqZQVnQ</td>\n",
       "      <td>5</td>\n",
       "      <td>0</td>\n",
       "      <td>0</td>\n",
       "      <td>0</td>\n",
       "      <td>You can't really find anything wrong with this...</td>\n",
       "      <td>2017-04-07 21:27:49</td>\n",
       "    </tr>\n",
       "    <tr>\n",
       "      <th>19</th>\n",
       "      <td>4bUyL7lzoWzDZaJETAKREg</td>\n",
       "      <td>_N7Ndn29bpll_961oPeEfw</td>\n",
       "      <td>y-Iw6dZflNix4BdwIyTNGA</td>\n",
       "      <td>3</td>\n",
       "      <td>0</td>\n",
       "      <td>0</td>\n",
       "      <td>0</td>\n",
       "      <td>Good selection of classes of beers and mains. ...</td>\n",
       "      <td>2014-06-27 21:19:23</td>\n",
       "    </tr>\n",
       "    <tr>\n",
       "      <th>20</th>\n",
       "      <td>Amo5gZBvCuPc_tZNpHwtsA</td>\n",
       "      <td>DzZ7piLBF-WsJxqosfJgtA</td>\n",
       "      <td>qx6WhZ42eDKmBchZDax4dQ</td>\n",
       "      <td>5</td>\n",
       "      <td>1</td>\n",
       "      <td>0</td>\n",
       "      <td>0</td>\n",
       "      <td>Our family LOVES the food here. Quick, friendl...</td>\n",
       "      <td>2017-03-27 01:14:37</td>\n",
       "    </tr>\n",
       "    <tr>\n",
       "      <th>...</th>\n",
       "      <td>...</td>\n",
       "      <td>...</td>\n",
       "      <td>...</td>\n",
       "      <td>...</td>\n",
       "      <td>...</td>\n",
       "      <td>...</td>\n",
       "      <td>...</td>\n",
       "      <td>...</td>\n",
       "      <td>...</td>\n",
       "    </tr>\n",
       "    <tr>\n",
       "      <th>6685880</th>\n",
       "      <td>FVXOrfpHgge6oleGkS9kNA</td>\n",
       "      <td>CwkEpm0lCai2cJZIp_MMiQ</td>\n",
       "      <td>hlrZHM4D48XiQtXh6cRg_w</td>\n",
       "      <td>3</td>\n",
       "      <td>2</td>\n",
       "      <td>0</td>\n",
       "      <td>0</td>\n",
       "      <td>Went here on Canada day. This place was super ...</td>\n",
       "      <td>2017-07-02 21:44:58</td>\n",
       "    </tr>\n",
       "    <tr>\n",
       "      <th>6685886</th>\n",
       "      <td>7bh0zTi1gEJwRCESsxH2Wg</td>\n",
       "      <td>TdbTpjfhOUeTCVBX9evLkw</td>\n",
       "      <td>FvXZcRB8bocNMDvFUnoWhg</td>\n",
       "      <td>5</td>\n",
       "      <td>2</td>\n",
       "      <td>1</td>\n",
       "      <td>1</td>\n",
       "      <td>I have been wanting to try this place and it d...</td>\n",
       "      <td>2018-10-06 02:31:06</td>\n",
       "    </tr>\n",
       "    <tr>\n",
       "      <th>6685890</th>\n",
       "      <td>yZbleOxC4_k8n4FclEBIRw</td>\n",
       "      <td>pSvD8Djf3g8eR9VmgaRKhA</td>\n",
       "      <td>3kdSl5mo9dWC4clrQjEDGg</td>\n",
       "      <td>5</td>\n",
       "      <td>0</td>\n",
       "      <td>0</td>\n",
       "      <td>0</td>\n",
       "      <td>The service is quick, the food is very good, a...</td>\n",
       "      <td>2018-11-11 19:11:03</td>\n",
       "    </tr>\n",
       "    <tr>\n",
       "      <th>6685891</th>\n",
       "      <td>bzQFrsMDtGIVOeXp5gbNeg</td>\n",
       "      <td>g5K5E9QrxObn6ZC1q8Mb9g</td>\n",
       "      <td>CRVtzesMuwHK-phmS_ojaA</td>\n",
       "      <td>4</td>\n",
       "      <td>0</td>\n",
       "      <td>0</td>\n",
       "      <td>0</td>\n",
       "      <td>Great for a quick stop for a pre-made slice of...</td>\n",
       "      <td>2012-03-29 23:35:45</td>\n",
       "    </tr>\n",
       "    <tr>\n",
       "      <th>6685896</th>\n",
       "      <td>jPCXuSBbI_cPocgoNBhdkg</td>\n",
       "      <td>V6BjjQICDO4q7TT3ZhaPWw</td>\n",
       "      <td>yA6dKNm_zl1ucZCnwW8ZCg</td>\n",
       "      <td>1</td>\n",
       "      <td>13</td>\n",
       "      <td>11</td>\n",
       "      <td>5</td>\n",
       "      <td>I think this owner and the owner of Amy's Baki...</td>\n",
       "      <td>2013-05-22 15:32:08</td>\n",
       "    </tr>\n",
       "  </tbody>\n",
       "</table>\n",
       "<p>594862 rows × 9 columns</p>\n",
       "</div>"
      ],
      "text/plain": [
       "                      review_id                 user_id  \\\n",
       "5        fdiNeiN_hoCxCMy2wTRW9g  w31MKYsNFMrjhWxxAb5wIw   \n",
       "12       Z7wgXp98wYB57QdRY3HQ3w  GYNnVehQeXjty0xH7-6Fhw   \n",
       "15       svK3nBU7Rk8VfGorlrN52A  NJlxGtouq06hhC7sS2ECYw   \n",
       "19       4bUyL7lzoWzDZaJETAKREg  _N7Ndn29bpll_961oPeEfw   \n",
       "20       Amo5gZBvCuPc_tZNpHwtsA  DzZ7piLBF-WsJxqosfJgtA   \n",
       "...                         ...                     ...   \n",
       "6685880  FVXOrfpHgge6oleGkS9kNA  CwkEpm0lCai2cJZIp_MMiQ   \n",
       "6685886  7bh0zTi1gEJwRCESsxH2Wg  TdbTpjfhOUeTCVBX9evLkw   \n",
       "6685890  yZbleOxC4_k8n4FclEBIRw  pSvD8Djf3g8eR9VmgaRKhA   \n",
       "6685891  bzQFrsMDtGIVOeXp5gbNeg  g5K5E9QrxObn6ZC1q8Mb9g   \n",
       "6685896  jPCXuSBbI_cPocgoNBhdkg  V6BjjQICDO4q7TT3ZhaPWw   \n",
       "\n",
       "                    business_id  stars  useful  funny  cool  \\\n",
       "5        eU_713ec6fTGNO4BegRaww      4       0      0     0   \n",
       "12       FxLfqxdYPA6Z85PFKaqLrg      4       0      0     0   \n",
       "15       YvrylyuWgbP90RgMqZQVnQ      5       0      0     0   \n",
       "19       y-Iw6dZflNix4BdwIyTNGA      3       0      0     0   \n",
       "20       qx6WhZ42eDKmBchZDax4dQ      5       1      0     0   \n",
       "...                         ...    ...     ...    ...   ...   \n",
       "6685880  hlrZHM4D48XiQtXh6cRg_w      3       2      0     0   \n",
       "6685886  FvXZcRB8bocNMDvFUnoWhg      5       2      1     1   \n",
       "6685890  3kdSl5mo9dWC4clrQjEDGg      5       0      0     0   \n",
       "6685891  CRVtzesMuwHK-phmS_ojaA      4       0      0     0   \n",
       "6685896  yA6dKNm_zl1ucZCnwW8ZCg      1      13     11     5   \n",
       "\n",
       "                                                      text                date  \n",
       "5        I'll be the first to admit that I was not exci... 2013-01-20 13:25:59  \n",
       "12       Wow. So surprised at the one and two star revi... 2016-05-07 01:36:53  \n",
       "15       You can't really find anything wrong with this... 2017-04-07 21:27:49  \n",
       "19       Good selection of classes of beers and mains. ... 2014-06-27 21:19:23  \n",
       "20       Our family LOVES the food here. Quick, friendl... 2017-03-27 01:14:37  \n",
       "...                                                    ...                 ...  \n",
       "6685880  Went here on Canada day. This place was super ... 2017-07-02 21:44:58  \n",
       "6685886  I have been wanting to try this place and it d... 2018-10-06 02:31:06  \n",
       "6685890  The service is quick, the food is very good, a... 2018-11-11 19:11:03  \n",
       "6685891  Great for a quick stop for a pre-made slice of... 2012-03-29 23:35:45  \n",
       "6685896  I think this owner and the owner of Amy's Baki... 2013-05-22 15:32:08  \n",
       "\n",
       "[594862 rows x 9 columns]"
      ]
     },
     "execution_count": 9,
     "metadata": {},
     "output_type": "execute_result"
    }
   ],
   "source": [
    "# task convert your reviews into a DataFrame\n",
    "# one line of code here\n",
    "reviews"
   ]
  },
  {
   "cell_type": "code",
   "execution_count": 10,
   "metadata": {},
   "outputs": [
    {
     "data": {
      "text/plain": [
       "(594862, 9)"
      ]
     },
     "execution_count": 10,
     "metadata": {},
     "output_type": "execute_result"
    }
   ],
   "source": [
    "reviews.shape"
   ]
  },
  {
   "cell_type": "code",
   "execution_count": 11,
   "metadata": {},
   "outputs": [
    {
     "data": {
      "text/html": [
       "<div>\n",
       "<style scoped>\n",
       "    .dataframe tbody tr th:only-of-type {\n",
       "        vertical-align: middle;\n",
       "    }\n",
       "\n",
       "    .dataframe tbody tr th {\n",
       "        vertical-align: top;\n",
       "    }\n",
       "\n",
       "    .dataframe thead th {\n",
       "        text-align: right;\n",
       "    }\n",
       "</style>\n",
       "<table border=\"1\" class=\"dataframe\">\n",
       "  <thead>\n",
       "    <tr style=\"text-align: right;\">\n",
       "      <th></th>\n",
       "      <th>review_id</th>\n",
       "      <th>user_id</th>\n",
       "      <th>business_id</th>\n",
       "      <th>stars</th>\n",
       "      <th>useful</th>\n",
       "      <th>funny</th>\n",
       "      <th>cool</th>\n",
       "      <th>text</th>\n",
       "      <th>date</th>\n",
       "    </tr>\n",
       "  </thead>\n",
       "  <tbody>\n",
       "    <tr>\n",
       "      <th>5</th>\n",
       "      <td>fdiNeiN_hoCxCMy2wTRW9g</td>\n",
       "      <td>w31MKYsNFMrjhWxxAb5wIw</td>\n",
       "      <td>eU_713ec6fTGNO4BegRaww</td>\n",
       "      <td>4</td>\n",
       "      <td>0</td>\n",
       "      <td>0</td>\n",
       "      <td>0</td>\n",
       "      <td>I'll be the first to admit that I was not exci...</td>\n",
       "      <td>2013-01-20 13:25:59</td>\n",
       "    </tr>\n",
       "    <tr>\n",
       "      <th>12</th>\n",
       "      <td>Z7wgXp98wYB57QdRY3HQ3w</td>\n",
       "      <td>GYNnVehQeXjty0xH7-6Fhw</td>\n",
       "      <td>FxLfqxdYPA6Z85PFKaqLrg</td>\n",
       "      <td>4</td>\n",
       "      <td>0</td>\n",
       "      <td>0</td>\n",
       "      <td>0</td>\n",
       "      <td>Wow. So surprised at the one and two star revi...</td>\n",
       "      <td>2016-05-07 01:36:53</td>\n",
       "    </tr>\n",
       "    <tr>\n",
       "      <th>15</th>\n",
       "      <td>svK3nBU7Rk8VfGorlrN52A</td>\n",
       "      <td>NJlxGtouq06hhC7sS2ECYw</td>\n",
       "      <td>YvrylyuWgbP90RgMqZQVnQ</td>\n",
       "      <td>5</td>\n",
       "      <td>0</td>\n",
       "      <td>0</td>\n",
       "      <td>0</td>\n",
       "      <td>You can't really find anything wrong with this...</td>\n",
       "      <td>2017-04-07 21:27:49</td>\n",
       "    </tr>\n",
       "    <tr>\n",
       "      <th>19</th>\n",
       "      <td>4bUyL7lzoWzDZaJETAKREg</td>\n",
       "      <td>_N7Ndn29bpll_961oPeEfw</td>\n",
       "      <td>y-Iw6dZflNix4BdwIyTNGA</td>\n",
       "      <td>3</td>\n",
       "      <td>0</td>\n",
       "      <td>0</td>\n",
       "      <td>0</td>\n",
       "      <td>Good selection of classes of beers and mains. ...</td>\n",
       "      <td>2014-06-27 21:19:23</td>\n",
       "    </tr>\n",
       "    <tr>\n",
       "      <th>20</th>\n",
       "      <td>Amo5gZBvCuPc_tZNpHwtsA</td>\n",
       "      <td>DzZ7piLBF-WsJxqosfJgtA</td>\n",
       "      <td>qx6WhZ42eDKmBchZDax4dQ</td>\n",
       "      <td>5</td>\n",
       "      <td>1</td>\n",
       "      <td>0</td>\n",
       "      <td>0</td>\n",
       "      <td>Our family LOVES the food here. Quick, friendl...</td>\n",
       "      <td>2017-03-27 01:14:37</td>\n",
       "    </tr>\n",
       "  </tbody>\n",
       "</table>\n",
       "</div>"
      ],
      "text/plain": [
       "                 review_id                 user_id             business_id  \\\n",
       "5   fdiNeiN_hoCxCMy2wTRW9g  w31MKYsNFMrjhWxxAb5wIw  eU_713ec6fTGNO4BegRaww   \n",
       "12  Z7wgXp98wYB57QdRY3HQ3w  GYNnVehQeXjty0xH7-6Fhw  FxLfqxdYPA6Z85PFKaqLrg   \n",
       "15  svK3nBU7Rk8VfGorlrN52A  NJlxGtouq06hhC7sS2ECYw  YvrylyuWgbP90RgMqZQVnQ   \n",
       "19  4bUyL7lzoWzDZaJETAKREg  _N7Ndn29bpll_961oPeEfw  y-Iw6dZflNix4BdwIyTNGA   \n",
       "20  Amo5gZBvCuPc_tZNpHwtsA  DzZ7piLBF-WsJxqosfJgtA  qx6WhZ42eDKmBchZDax4dQ   \n",
       "\n",
       "    stars  useful  funny  cool  \\\n",
       "5       4       0      0     0   \n",
       "12      4       0      0     0   \n",
       "15      5       0      0     0   \n",
       "19      3       0      0     0   \n",
       "20      5       1      0     0   \n",
       "\n",
       "                                                 text                date  \n",
       "5   I'll be the first to admit that I was not exci... 2013-01-20 13:25:59  \n",
       "12  Wow. So surprised at the one and two star revi... 2016-05-07 01:36:53  \n",
       "15  You can't really find anything wrong with this... 2017-04-07 21:27:49  \n",
       "19  Good selection of classes of beers and mains. ... 2014-06-27 21:19:23  \n",
       "20  Our family LOVES the food here. Quick, friendl... 2017-03-27 01:14:37  "
      ]
     },
     "execution_count": 11,
     "metadata": {},
     "output_type": "execute_result"
    }
   ],
   "source": [
    "reviews.head()"
   ]
  },
  {
   "cell_type": "markdown",
   "metadata": {},
   "source": [
    "## Збереження даних \n",
    "Зробивши всю цю важку роботу, фільтруючи файл оглядів і задокументувавши процес у цьому зошиті, нам потрібно зберегти дані. \n",
    "Збережемо огляди структури DataFrame на csv, який назвемо \"reviews_filtered.csv\"."
   ]
  },
  {
   "cell_type": "code",
   "execution_count": null,
   "metadata": {},
   "outputs": [],
   "source": [
    "# task: save the DataFrame to the specified file now.\n",
    "# don't forget to use index=False\n",
    "reviews.to_csv('out/05_lab5_reviews_filtered.csv', index=False)"
   ]
  },
  {
   "cell_type": "markdown",
   "metadata": {},
   "source": [
    "Якщо поглянути на розмір оригінального файлу json та наш новий файл csv, побачимо, що ми перейшли від 4,4 ГБ до 325 МБ. Це набагато зручніше!"
   ]
  },
  {
   "cell_type": "markdown",
   "metadata": {},
   "source": [
    "# Підсумок"
   ]
  },
  {
   "cell_type": "markdown",
   "metadata": {},
   "source": [
    "У цьому проекті ви мали навчитися, як вирішити проблему та визначити відповідні дані, використовувати дані, щоб отримати уявлення про проблему та прийняти рішення, а потім використовувати ці знання для отримання потрібної підмножини даних з надзвичайно великого файлу. У наступному зошиті ми зануримось у ці дані."
   ]
  }
 ],
 "metadata": {
  "kernelspec": {
   "display_name": "Python 3",
   "language": "python",
   "name": "python3"
  },
  "language_info": {
   "codemirror_mode": {
    "name": "ipython",
    "version": 3
   },
   "file_extension": ".py",
   "mimetype": "text/x-python",
   "name": "python",
   "nbconvert_exporter": "python",
   "pygments_lexer": "ipython3",
   "version": "3.9.5"
  }
 },
 "nbformat": 4,
 "nbformat_minor": 2
}
