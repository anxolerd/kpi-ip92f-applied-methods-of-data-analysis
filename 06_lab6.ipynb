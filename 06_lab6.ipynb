{
 "cells": [
  {
   "cell_type": "markdown",
   "metadata": {},
   "source": [
    "# Лабораторна робота №6"
   ]
  },
  {
   "cell_type": "markdown",
   "metadata": {},
   "source": [
    "## Аналіз тексту оглядів"
   ]
  },
  {
   "cell_type": "code",
   "execution_count": null,
   "metadata": {},
   "outputs": [],
   "source": [
    "# import the required libraries here\n",
    "# two lines of code here:\n",
    "None"
   ]
  },
  {
   "cell_type": "code",
   "execution_count": null,
   "metadata": {},
   "outputs": [],
   "source": [
    "reviews = pd.read_csv('reviews_filtered.csv')"
   ]
  },
  {
   "cell_type": "markdown",
   "metadata": {},
   "source": [
    "Згадаймо, який вигляд має сформована нами структура даних типу DataFrame. Перевіримо, чи читається файл reviews_filtered.csv."
   ]
  },
  {
   "cell_type": "code",
   "execution_count": null,
   "metadata": {},
   "outputs": [],
   "source": [
    "reviews.head()"
   ]
  },
  {
   "cell_type": "markdown",
   "metadata": {},
   "source": [
    "## Перший огляд"
   ]
  },
  {
   "cell_type": "code",
   "execution_count": null,
   "metadata": {},
   "outputs": [],
   "source": [
    "reviews.loc[0, 'text']"
   ]
  },
  {
   "cell_type": "markdown",
   "metadata": {},
   "source": [
    "Цей огляд у кращому випадку не є найкращим. З іншого боку, ми можемо побачити, що він говорить про піцу та італійську, що дає деяку впевненість у тому, що ми прийняли гарне рішення поєднати категорії pizza та italian."
   ]
  },
  {
   "cell_type": "markdown",
   "metadata": {},
   "source": [
    "## Другий огляд"
   ]
  },
  {
   "cell_type": "code",
   "execution_count": null,
   "metadata": {},
   "outputs": [],
   "source": [
    "reviews.loc[1, 'text']"
   ]
  },
  {
   "cell_type": "markdown",
   "metadata": {},
   "source": [
    "## Хороші та погані відгуки\n",
    "Ми не хочемо читати всі відгуки в нашому наборі даних, щоб знайти хороші та погані. Очевидно, що 5 найкраще і 1 - це найгірше, але як їх згрупувати? Ми встановлюємо поріг посередині чи просто беремо верхній і нижній рейтинги? Давайте спочатку подивимось, як виглядає розподіл рейтингів."
   ]
  },
  {
   "cell_type": "code",
   "execution_count": null,
   "metadata": {},
   "outputs": [],
   "source": [
    "reviews['stars'].describe()"
   ]
  },
  {
   "cell_type": "code",
   "execution_count": null,
   "metadata": {},
   "outputs": [],
   "source": [
    "star_counts = reviews['stars'].value_counts()"
   ]
  },
  {
   "cell_type": "code",
   "execution_count": null,
   "metadata": {
    "scrolled": true
   },
   "outputs": [],
   "source": [
    "# task: create a bar plot of number of reviews for each star rating\n",
    "# hint: sort_index may be useful to get your x-axis in the most intuitive order\n",
    "star_counts.sort_index().plot(kind='bar')"
   ]
  },
  {
   "cell_type": "markdown",
   "metadata": {},
   "source": [
    "Цей графік дає корисну наочність. Ми бачимо, що відгуки з трьома зірками або меншими - у нижній частині, а відгуки із п’ятьма зірками - у верхній частині. Ми можемо розглядати п'ять зірок як найкращі категорії, а три зірки і менше як «недобре»."
   ]
  },
  {
   "cell_type": "markdown",
   "metadata": {},
   "source": [
    "## Візуалізація оглядів\n",
    "З аналізу розподілу рейтингів зіркових оглядів, нашим першим підходом  для надання відповіді маркетинговій команді буде перегляд найпопулярніших слів у найкращих оглядах та порівняння їх із тими, що існують у найгірших оглядах."
   ]
  },
  {
   "cell_type": "markdown",
   "metadata": {},
   "source": [
    "Спочатку давайте окремо витягнемо хороші та погані відгуки."
   ]
  },
  {
   "cell_type": "code",
   "execution_count": null,
   "metadata": {},
   "outputs": [],
   "source": [
    "# task, filter the 'text' column using the 'stars' column to create Series of good and bad review text\n",
    "# call the results good_review_text and bad_review_text, respectively\n",
    "# two lines of code here:\n",
    "good_review_text = None\n",
    "bad_review_text = None"
   ]
  },
  {
   "cell_type": "markdown",
   "metadata": {},
   "source": [
    "Тепер ми можемо перевірити, скільки у нас рядків, і чи схожі вони на кількість відгуків, які ми очікували від розподілу рейтингів зірок."
   ]
  },
  {
   "cell_type": "code",
   "execution_count": null,
   "metadata": {},
   "outputs": [],
   "source": [
    "good_review_text.shape"
   ]
  },
  {
   "cell_type": "code",
   "execution_count": null,
   "metadata": {},
   "outputs": [],
   "source": [
    "bad_review_text.shape"
   ]
  },
  {
   "cell_type": "markdown",
   "metadata": {},
   "source": [
    "Зараз це насправді багато оглядів. Для наших цілей тут ми почнемо з простого вибору перших 1000 оглядів для кожної групи на основі припущення, що вони упорядковані випадковим чином. Також ми додамо невеликий уточнюючий крок перетворення символів у малі регістри,  щоб не рахувати два рази, наприклад, \"Bad\" та \"bad\"."
   ]
  },
  {
   "cell_type": "code",
   "execution_count": null,
   "metadata": {},
   "outputs": [],
   "source": [
    "# task: select the first 1000 items in each of the good and bad review text Series and chain the\n",
    "# str.lower() method to convert characters to lower case. Save the results back in place.\n",
    "# two lines of code here:\n",
    "good_review_text = None\n",
    "bad_review_text = None"
   ]
  },
  {
   "cell_type": "code",
   "execution_count": null,
   "metadata": {},
   "outputs": [],
   "source": [
    "# Check first few good reviews\n",
    "good_review_text.head()"
   ]
  },
  {
   "cell_type": "code",
   "execution_count": null,
   "metadata": {},
   "outputs": [],
   "source": [
    "# check first few bad reviews\n",
    "bad_review_text.head()"
   ]
  },
  {
   "cell_type": "markdown",
   "metadata": {},
   "source": [
    "Отже, ми розподілили наші огляди на групи, які ми вважаємо «чудовими» та «поганими». Наша проблема зараз полягає у тому, щоб зрозуміти, у чому полягає різниця між ними. Як ми інтерпретуємо чи візуалізуємо інформацію? Чудовим способом візуального перегляду такої оцінки є ознака того, як часто трапляються певні слова або словосполучення. Хороший вступ до створення wordclouds є [тут] (https://www.datacamp.com/community/tutorials/wordcloud-python) у статті спільноти DataCamp. Очевидно, що необхідно встановити відповідну бібліотеку для того, щоб подальша робота була можливою."
   ]
  },
  {
   "cell_type": "code",
   "execution_count": null,
   "metadata": {},
   "outputs": [],
   "source": [
    "# task: import WordCloud and STOPWORDS here\n",
    "# one line of code here\n",
    "None"
   ]
  },
  {
   "cell_type": "markdown",
   "metadata": {},
   "source": [
    "Спочатку нам потрібно зібрати огляди в єдину структуру для кожного хорошого та поганого відгуків для wordcloud."
   ]
  },
  {
   "cell_type": "code",
   "execution_count": null,
   "metadata": {},
   "outputs": [],
   "source": [
    "# task: combine all the good and bad review text into a single string for each\n",
    "# two lines of code here\n",
    "good_text = None\n",
    "bad_text = None"
   ]
  },
  {
   "cell_type": "markdown",
   "metadata": {},
   "source": [
    "### Wordcloud з хороших слів"
   ]
  },
  {
   "cell_type": "markdown",
   "metadata": {},
   "source": [
    "Тепер, нарешті, ми можемо створити wordcloud! Давайте розглянемо топ-50 слів з найкращих відгуків."
   ]
  },
  {
   "cell_type": "code",
   "execution_count": null,
   "metadata": {},
   "outputs": [],
   "source": [
    "# task: generate a wordcloud of good review words, max 50 words\n",
    "# one line of code here, call the result good_wordcloud\n",
    "good_wordcloud = None"
   ]
  },
  {
   "cell_type": "code",
   "execution_count": null,
   "metadata": {},
   "outputs": [],
   "source": [
    "plt.imshow(good_wordcloud, interpolation='bilinear')"
   ]
  },
  {
   "cell_type": "markdown",
   "metadata": {},
   "source": [
    "Для маркетологів це зображення має велику цінність. Воно виглядає розумно. Багато хто із маркетингу буде зацікавлений прийняти це зображення таким, яким воно є, і використовувати його. "
   ]
  },
  {
   "cell_type": "code",
   "execution_count": null,
   "metadata": {},
   "outputs": [],
   "source": [
    "# task: use the to_file method for wordcloud to save the above image to send to marketing\n",
    "# one line of code here\n",
    "None"
   ]
  },
  {
   "cell_type": "markdown",
   "metadata": {},
   "source": [
    "###  Wordcloud з поганих слів"
   ]
  },
  {
   "cell_type": "markdown",
   "metadata": {},
   "source": [
    "Спробуємо дізнатися щось додаткове, переглянувши найкращі слова в поганих відгуках."
   ]
  },
  {
   "cell_type": "code",
   "execution_count": null,
   "metadata": {},
   "outputs": [],
   "source": [
    "# task: generate a wordcloud of bad review words, max 50 words\n",
    "# one line of code here, call the result bad_wordcloud\n",
    "bad_wordcloud = None"
   ]
  },
  {
   "cell_type": "code",
   "execution_count": null,
   "metadata": {},
   "outputs": [],
   "source": [
    "plt.imshow(bad_wordcloud, interpolation='bilinear')"
   ]
  },
  {
   "cell_type": "markdown",
   "metadata": {},
   "source": [
    "Тут ми помічаємо деякі речі. По-перше, \"піца\" - це дуже помітне слово, але це було і в найкращих відгуках. Це дуже очевидно відповідне слово для нашої цільової категорії, але чи корисне воно для розділення хороших та поганих відгуків? Напевно, ні. Ми також можемо почати робити цікаві зауваження, що тут, здається, є більш \"нудні\" слова, такі як \"told\", \"said\", \"came\" та \"went\". Між нашими двома словосполуками явно різний тон. Тут ми безумовно досягли чогось корисного."
   ]
  },
  {
   "cell_type": "markdown",
   "metadata": {},
   "source": [
    "# Підсумок\n",
    "Ми багато чого досягли за час виконання даного завдання. Перш за все ми пов’язали бізнес-проблему з набором даних та визначили, які саме дані нам потрібні. Далі ми ознайомилися з цими даними, щоб відповісти на важливе запитання: яка категорія продуктів харчування має цікавити наш бізнес. Тоді ми використали отримані знання, щоб витягти лише відповідні огляди з великого файлу, які в іншому випадку були б занадто великими для обробки. Ми також розділили окремі найкращі та найгірші відгуки, щоб подивитися на них окремо і чітко помітили, що між ними є різниця.\n",
    "\n",
    "Отже, ми отримали корисний результат, але ми можемо зробити більше. Подальша обробка уточнює ту маркетингову інформацію, яку ми вже отримали."
   ]
  },
  {
   "cell_type": "markdown",
   "metadata": {},
   "source": [
    "# Покращення набору слів wordcloud"
   ]
  },
  {
   "cell_type": "markdown",
   "metadata": {},
   "source": [
    "Ми помітили, що деякі слова, які мають часте використання в поганих оглядах, також наявні в  хороших оглядах. Потрібно виключити їх із wordcloud, вказавши їх як стоп-слова. Додамо їх до списку стоп-слів за замовчуванням STOPWORDS."
   ]
  },
  {
   "cell_type": "code",
   "execution_count": null,
   "metadata": {},
   "outputs": [],
   "source": [
    "bad_stopwords = set(['pizza', 'food', 'order', 'place'])"
   ]
  },
  {
   "cell_type": "code",
   "execution_count": null,
   "metadata": {},
   "outputs": [],
   "source": [
    "# task: create a set of stopwords and add the \"bad\" ones above to it\n",
    "# two lines of code here:\n",
    "None\n",
    "None"
   ]
  },
  {
   "cell_type": "code",
   "execution_count": null,
   "metadata": {},
   "outputs": [],
   "source": [
    "# task: generate a better wordcloud of good review words, max 50 words\n",
    "# one line of code here, call the result better_wordcloud\n",
    "better_wordcloud = None\n",
    "plt.imshow(better_wordcloud, interpolation='bilinear')"
   ]
  },
  {
   "cell_type": "markdown",
   "metadata": {},
   "source": [
    "Ми бачимо, що склад слів змінився. Тепер ми маємо слова, які зустрічаються тільки в позитивних оглядах і не маємо спільних слів. Який wordcloud використовувати - це справа ваших маркетологів."
   ]
  },
  {
   "cell_type": "markdown",
   "metadata": {},
   "source": [
    "# Післямова\n",
    "Використання одиничних слів - це хороший початок, але слова, що виникають у послідовностях і самі послідовності можуть мати важливе значення. Розглядаючи хороші і погані огляди та аналізуючи лише окремі слова, ми втратимо, наприклад, словосполучення «highly recommended». Для підвищення точності оцінки необхідно використовувати словосполучення з двох, трьох і більше слів."
   ]
  }
 ],
 "metadata": {
  "kernelspec": {
   "display_name": "Python 3",
   "language": "python",
   "name": "python3"
  },
  "language_info": {
   "codemirror_mode": {
    "name": "ipython",
    "version": 3
   },
   "file_extension": ".py",
   "mimetype": "text/x-python",
   "name": "python",
   "nbconvert_exporter": "python",
   "pygments_lexer": "ipython3",
   "version": "3.7.6"
  }
 },
 "nbformat": 4,
 "nbformat_minor": 2
}
